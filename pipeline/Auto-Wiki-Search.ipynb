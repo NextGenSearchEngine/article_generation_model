{
 "cells": [
  {
   "cell_type": "code",
   "execution_count": 1,
   "id": "14b6e980",
   "metadata": {},
   "outputs": [],
   "source": [
    "import wikipedia as wiki\n",
    "from collections import defaultdict, Counter \n",
    "import re\n",
    "import heapq\n",
    "import time\n",
    "\n",
    "from sentence_transformers import SentenceTransformer\n",
    "from transformers import BertForSequenceClassification, BertTokenizer\n",
    "import torch\n",
    "import numpy as np\n",
    "\n",
    "from tqdm import tqdm\n",
    "import urllib\n",
    "\n",
    "from requests_html import HTMLSession\n",
    "import requests\n",
    "from bs4 import BeautifulSoup\n",
    "import html_text\n",
    "\n",
    "import nltk\n",
    "from os.path import isfile, join\n",
    "\n",
    "from sklearn.metrics.pairwise import cosine_similarity\n",
    "\n",
    "import networkx as nx\n",
    "\n",
    "from transformers import pipeline\n",
    "from nltk.tokenize import word_tokenize"
   ]
  },
  {
   "cell_type": "code",
   "execution_count": 2,
   "id": "11f94d20",
   "metadata": {},
   "outputs": [],
   "source": [
    "# Removes extraneous s from the end of a title\n",
    "def clean_title(title):\n",
    "    return title[:-1].lower() if title[-1] == 's' else title.lower()"
   ]
  },
  {
   "cell_type": "code",
   "execution_count": 3,
   "id": "fa877a3b",
   "metadata": {},
   "outputs": [],
   "source": [
    "TITLE = clean_title(\"computer architecture\")\n",
    "SUBSECTIONS = 4\n",
    "RELATED_TITLES = wiki.search(TITLE)"
   ]
  },
  {
   "cell_type": "code",
   "execution_count": 4,
   "id": "a22db47d",
   "metadata": {},
   "outputs": [
    {
     "data": {
      "text/plain": [
       "['Computer architecture',\n",
       " 'Word (computer architecture)',\n",
       " 'Hazard (computer architecture)',\n",
       " 'Multithreading (computer architecture)',\n",
       " 'Von Neumann architecture',\n",
       " 'Predication (computer architecture)',\n",
       " 'Computer',\n",
       " 'Computer science',\n",
       " 'Microarchitecture',\n",
       " 'Computer architecture simulator']"
      ]
     },
     "execution_count": 4,
     "metadata": {},
     "output_type": "execute_result"
    }
   ],
   "source": [
    "RELATED_TITLES"
   ]
  },
  {
   "cell_type": "markdown",
   "id": "a90948c3",
   "metadata": {},
   "source": [
    "## Dynamic subheading generation"
   ]
  },
  {
   "cell_type": "code",
   "execution_count": 5,
   "id": "32708005",
   "metadata": {},
   "outputs": [],
   "source": [
    "# Get filtered or raw (dependent on raw argument) sub sections for an article's content\n",
    "def get_subsections(data, raw=False):\n",
    "    subsections = re.findall('\\n== ([a-zA-z ]+) ==', data)\n",
    "    if raw:\n",
    "        return [subsection.lower() for subsection in subsections]\n",
    "    \n",
    "    subsections = [clean_title(subsection) for subsection in subsections]\n",
    "    blacklisted_articles = [\"reference\", \"see also\", \"external link\", \"note\", \"further reading\"]\n",
    "    subsections = [subsection.lower() for subsection in subsections if subsection not in blacklisted_articles]\n",
    "    return subsections"
   ]
  },
  {
   "cell_type": "code",
   "execution_count": 6,
   "id": "3ed49449",
   "metadata": {},
   "outputs": [],
   "source": [
    "# extracts subsections and content from related pages (cleans formatting)\n",
    "def get_important_subsections_and_content(related_titles):\n",
    "    topics = []\n",
    "    related_paper_section_content = defaultdict(list)\n",
    "    for related_title in tqdm(related_titles):\n",
    "        # Get a WikipediaPage for every string title\n",
    "        try:\n",
    "            related_page = wiki.WikipediaPage(title=related_title)\n",
    "        except wiki.DisambiguationError as e:\n",
    "            continue\n",
    "\n",
    "        content = (related_page.content).lower()\n",
    "        subsections = get_subsections(content, raw=True)\n",
    "        topics.extend(get_subsections(content))\n",
    "        delimiters = ''\n",
    "        for subsection in subsections:\n",
    "            delimiters += '== ' + str(subsection) + ' ==|'\n",
    "        delimiters = delimiters[:-1]\n",
    "        words = re.split(delimiters, content)\n",
    "        words = [word.replace('\\n', '') for word in words]\n",
    "        related_paper_section_content['intro'].append(str(words[0]))\n",
    "        for i, subsection in enumerate(subsections):\n",
    "            if subsection[-1] == 's':\n",
    "                subsection = subsection[:-1]\n",
    "            related_paper_section_content[subsection].append(str(words[i+1]))\n",
    "\n",
    "    common_subsections = Counter(topics)\n",
    "    important_subsections = heapq.nlargest(SUBSECTIONS, common_subsections, key=common_subsections.__getitem__)\n",
    "    return important_subsections, related_paper_section_content"
   ]
  },
  {
   "cell_type": "code",
   "execution_count": 7,
   "id": "70587530",
   "metadata": {},
   "outputs": [
    {
     "name": "stderr",
     "output_type": "stream",
     "text": [
      "100%|███████████████████████████████████████████| 10/10 [00:04<00:00,  2.19it/s]"
     ]
    },
    {
     "name": "stdout",
     "output_type": "stream",
     "text": [
      "The subheadings are:  ['history', 'source', 'type', 'overview']\n"
     ]
    },
    {
     "name": "stderr",
     "output_type": "stream",
     "text": [
      "\n"
     ]
    }
   ],
   "source": [
    "# run related_paper_section_content separately <- makes it faster\n",
    "important_subsections, related_paper_section_content = get_important_subsections_and_content(RELATED_TITLES)\n",
    "# important_subsections.insert(0, 'intro')\n",
    "print(\"The subheadings are: \", important_subsections)"
   ]
  },
  {
   "cell_type": "code",
   "execution_count": 53,
   "id": "25f80f03",
   "metadata": {},
   "outputs": [],
   "source": [
    "important_subsections = ['history', 'source', 'type', 'overview', 'intoduction', 'examples', 'applications', 'syntax']"
   ]
  },
  {
   "cell_type": "markdown",
   "id": "19051e3c",
   "metadata": {},
   "source": [
    "## Subheading encoding"
   ]
  },
  {
   "cell_type": "code",
   "execution_count": 8,
   "id": "5de9679c",
   "metadata": {},
   "outputs": [
    {
     "name": "stdout",
     "output_type": "stream",
     "text": [
      "Model initializaiton:  5.2757580280303955\n"
     ]
    }
   ],
   "source": [
    "start = time.time()\n",
    "model = SentenceTransformer('sentence-transformers/all-roberta-large-v1')\n",
    "print(\"Model initializaiton: \", time.time() - start)"
   ]
  },
  {
   "cell_type": "code",
   "execution_count": 9,
   "id": "e15251a6",
   "metadata": {},
   "outputs": [
    {
     "name": "stderr",
     "output_type": "stream",
     "text": [
      "100%|█████████████████████████████████████████████| 4/4 [00:03<00:00,  1.30it/s]"
     ]
    },
    {
     "name": "stdout",
     "output_type": "stream",
     "text": [
      "Subheading embeddings generated\n"
     ]
    },
    {
     "name": "stderr",
     "output_type": "stream",
     "text": [
      "\n"
     ]
    }
   ],
   "source": [
    "topic_embeddings = defaultdict(list)\n",
    "# Creates word embeddings for subsection headings\n",
    "features = []\n",
    "for subsections in tqdm(important_subsections):\n",
    "    paras = related_paper_section_content[subsections]\n",
    "    topic_emb = np.average(model.encode(paras), 0)\n",
    "    features.append(list(topic_emb))\n",
    "features_tensor = torch.tensor(features)\n",
    "print(\"Subheading embeddings generated\")"
   ]
  },
  {
   "cell_type": "markdown",
   "id": "55722e4d",
   "metadata": {},
   "source": [
    "## Format of output data"
   ]
  },
  {
   "cell_type": "code",
   "execution_count": 10,
   "id": "9b62fc2d",
   "metadata": {},
   "outputs": [],
   "source": [
    "# {\n",
    "#     website_1: { intro: [para1, para7] -> summarize into 1-2 sentences\n",
    "#                  history: [...],   \n",
    "#                  ...\n",
    "#     }\n",
    "#     website_2: ...\n",
    "#     .\n",
    "#     .\n",
    "#     .\n",
    "# }\n",
    "\n",
    "\n",
    "\n",
    "# {\n",
    "#     intro: { website_1 : []\n",
    "        \n",
    "#     }\n",
    "    \n",
    "    \n",
    "# }"
   ]
  },
  {
   "cell_type": "markdown",
   "id": "7c2610e7",
   "metadata": {},
   "source": [
    "## Web scraping"
   ]
  },
  {
   "cell_type": "code",
   "execution_count": 54,
   "id": "09bd1576",
   "metadata": {},
   "outputs": [],
   "source": [
    "def get_source(url):\n",
    "    try:\n",
    "        session = HTMLSession()\n",
    "        response = session.get(url)\n",
    "        return response\n",
    "    except requests.exceptions.RequestException as e:\n",
    "        print(e)\n",
    "        \n",
    "def google_search(query):\n",
    "    query = urllib.parse.quote_plus(query)\n",
    "    response = get_source(\"https://www.google.com/search?q=\" + query)\n",
    "    links = list(set(response.html.absolute_links))\n",
    "    # Get rid of these from the domains that are used\n",
    "    google_domains = ('https://www.google.'\n",
    "#                       'https://google.',\n",
    "#                       'https://www.google.com/search?',\n",
    "#                       'https://webcache.googleusercontent.', \n",
    "#                       'http://webcache.googleusercontent.', \n",
    "#                       'https://policies.google.',\n",
    "#                       'https://support.google.',\n",
    "#                       'https://maps.google.',\n",
    "#                       'https://www.coursera.org',\n",
    "#                       'https://www.youtube.com',\n",
    "#                      'https://online.umich.edu/',\n",
    "#                       'https://docs.oracle.com/',\n",
    "#                       'https://www.cise.ufl.edu/~mssz/CompOrg/CDA-lang.html',\n",
    "#                       'https://study.com/academy',\n",
    "#                       'https://www.redhat.com',\n",
    "#                       'https://www.oreilly.com',\n",
    "#                       'https://scholar.google.com',\n",
    "#                       'https://machinelearningknowledge',\n",
    "#                       'https://interestingengineering.com',\n",
    "#                       'https://www.nature.com/',\n",
    "#                       'https://machinelearningmastery.com',\n",
    "#                       'https://www.thelancet.com/',\n",
    "#                       'https://m.youtube.com',\n",
    "#                       'https://www.mathworks.com',\n",
    "#                       'https://www.deeplearningbook',\n",
    "#                       'https://u.today'\n",
    "                     )\n",
    "    \n",
    "    for url in links[:]:\n",
    "        url_check = url.split('#')[0]\n",
    "        if url_check in urls_visited or url.startswith(google_domains):\n",
    "            links.remove(url)\n",
    "        if url_check not in urls_visited:\n",
    "            urls_visited.add(url_check)\n",
    "        if url[-3:] == 'pdf':\n",
    "            links.remove(url)\n",
    "    return links\n",
    "\n",
    "# deprecated\n",
    "def collect_data_from_url(results):\n",
    "    data = []\n",
    "    for url in results:\n",
    "        print(url)\n",
    "        # Specially collect data from wikipedia\n",
    "        if url.startswith('http://en.wikipedia.org/wiki/') or url.startswith('https://en.wikipedia.org/wiki/'):\n",
    "            search_term = url.replace('http://en.wikipedia.org/wiki/', '').replace('https://en.wikipedia.org/wiki/', '').replace('_', ' ').replace('%E2%80%93', '-').replace('%27', \"'\")\n",
    "            sentences = wiki.WikipediaPage(title=search_term).content\n",
    "            text_info = ''\n",
    "            for sent in sentences.split('.'):\n",
    "                if sent == '' or len(sent) > 500 or len(sent) < 10:\n",
    "                    continue\n",
    "                sent_emb = torch.from_numpy(model.encode(sent))\n",
    "                if float(sent_emb @ topic_emb) < 0.3:\n",
    "                    continue\n",
    "                text_info += (sent + '. ')\n",
    "\n",
    "            item = {\n",
    "                'title': search_term,\n",
    "                'link': url,\n",
    "                'text': text_info,\n",
    "                'emb': model.encode(text_info)\n",
    "            }\n",
    "            data.append(item) \n",
    "        else:\n",
    "            try: \n",
    "                page = requests.get(url, timeout=(5, 10))\n",
    "            except requests.exceptions.Timeout as err: \n",
    "                #print(\"here\")\n",
    "                continue\n",
    "            #print(page)\n",
    "            soup = BeautifulSoup(page.content, \"html.parser\",from_encoding=\"iso-8859-1\")\n",
    "            p = soup.find_all('p')\n",
    "            paragraphs = []\n",
    "            for x in p:\n",
    "                paragraphs.append(str(x))\n",
    "            if len(paragraphs) == 0:\n",
    "                continue\n",
    "            text_info = ''\n",
    "            for para in paragraphs:\n",
    "                if para == '':\n",
    "                    continue\n",
    "                sentences = html_text.extract_text(para, guess_layout=False)\n",
    "                for sent in sentences.split('.'):\n",
    "                    if sent == '' or len(sent) > 500 or len(sent) < 10:\n",
    "                        continue\n",
    "                    sent_emb = torch.from_numpy(model.encode(sent))\n",
    "                    if float(sent_emb @ topic_emb) < 0.3:\n",
    "                        continue\n",
    "                    text_info += (sent + '. ')\n",
    "            if len(text_info) < 100 or len(text_info) > 10000: \n",
    "                continue\n",
    "            item = {\n",
    "                'title': \"<UNK>\",\n",
    "                'link': url,\n",
    "                'text': text_info,\n",
    "                'emb': model.encode(text_info)\n",
    "            }\n",
    "            data.append(item)\n",
    "    return data"
   ]
  },
  {
   "cell_type": "code",
   "execution_count": 55,
   "id": "f6e5583e",
   "metadata": {},
   "outputs": [
    {
     "name": "stderr",
     "output_type": "stream",
     "text": [
      "100%|█████████████████████████████████████████████| 8/8 [00:06<00:00,  1.16it/s]"
     ]
    },
    {
     "name": "stdout",
     "output_type": "stream",
     "text": [
      "We have selected  68  webpages.\n"
     ]
    },
    {
     "name": "stderr",
     "output_type": "stream",
     "text": [
      "\n"
     ]
    }
   ],
   "source": [
    "urls_visited = set()\n",
    "results = []\n",
    "for text in tqdm(important_subsections):\n",
    "    if text == 'intro':\n",
    "        results.extend(google_search(\"what is \" + TITLE))\n",
    "    else:\n",
    "        results.extend(google_search(TITLE + \" \" + text.lower()))\n",
    "\n",
    "print(\"We have selected \", len(results), \" webpages.\")"
   ]
  },
  {
   "cell_type": "code",
   "execution_count": 56,
   "id": "5b249289",
   "metadata": {},
   "outputs": [
    {
     "name": "stderr",
     "output_type": "stream",
     "text": [
      "100%|███████████████████████████████████████████| 68/68 [00:37<00:00,  1.80it/s]"
     ]
    },
    {
     "name": "stdout",
     "output_type": "stream",
     "text": [
      "We have scraped  812  paragraphs.\n"
     ]
    },
    {
     "name": "stderr",
     "output_type": "stream",
     "text": [
      "\n"
     ]
    }
   ],
   "source": [
    "headers = {'User-Agent': 'Mozilla/5.0 (Macintosh; Intel Mac OS X 10_11_5) AppleWebKit/537.36 (KHTML, like Gecko) Chrome/50.0.2661.102 Safari/537.36'}\n",
    "raw_dataset = defaultdict(list)\n",
    "count_of_paras = 0\n",
    "# Get website urls and the paragraph tags in them\n",
    "for result in tqdm(results):\n",
    "    temp_dataset = ''\n",
    "    paragraphs = []\n",
    "    temp_cleaned_para = []\n",
    "    try:\n",
    "        page = requests.get(result, timeout=(5, 10), headers=headers)\n",
    "    except:\n",
    "        continue\n",
    "    soup = BeautifulSoup(page.content, \"html.parser\")\n",
    "    p = soup.find_all('p')\n",
    "    \n",
    "    for x in p:\n",
    "        paragraphs.append(str(x))\n",
    "    for i, para in enumerate(paragraphs):\n",
    "        if para != '':\n",
    "            temp_cleaned_para.append(html_text.extract_text(para, guess_layout=False))\n",
    "\n",
    "    for i, para in enumerate(temp_cleaned_para):\n",
    "        if len(nltk.word_tokenize(para)) > 30 and len(nltk.word_tokenize(para)) < 150:\n",
    "            para = re.sub('[\\[].*?[\\]]', '', para)\n",
    "            raw_dataset[result].append(para)\n",
    "            count_of_paras += 1\n",
    "print(\"We have scraped \", count_of_paras, \" paragraphs.\")"
   ]
  },
  {
   "cell_type": "code",
   "execution_count": 57,
   "id": "f4ba030d",
   "metadata": {},
   "outputs": [],
   "source": [
    "def run(result):\n",
    "    headers = {'User-Agent': 'Mozilla/5.0 (Macintosh; Intel Mac OS X 10_11_5) AppleWebKit/537.36 (KHTML, like Gecko) Chrome/50.0.2661.102 Safari/537.36'}\n",
    "    raw_dataset = defaultdict(list)\n",
    "    temp_dataset = ''\n",
    "    paragraphs = []\n",
    "    temp_cleaned_para = []\n",
    "    try:\n",
    "        page = requests.get(result, timeout=(5, 10), headers=headers)\n",
    "    except:\n",
    "        print(\"sad\")\n",
    "    soup = BeautifulSoup(page.content, \"html.parser\")\n",
    "    p = soup.find_all('p')\n",
    "\n",
    "    for x in p:\n",
    "        paragraphs.append(str(x))\n",
    "    for i, para in enumerate(paragraphs):\n",
    "        if para != '':\n",
    "            temp_cleaned_para.append(html_text.extract_text(para, guess_layout=False))\n",
    "\n",
    "    for i, para in enumerate(temp_cleaned_para):\n",
    "        if len(nltk.word_tokenize(para)) > 30 and len(nltk.word_tokenize(para)) < 150:\n",
    "            para = re.sub('[\\[].*?[\\]]', '', para)\n",
    "            raw_dataset[result].append(para)\n",
    "    return raw_dataset\n",
    "                "
   ]
  },
  {
   "cell_type": "code",
   "execution_count": null,
   "id": "d24c20c6",
   "metadata": {},
   "outputs": [
    {
     "name": "stdout",
     "output_type": "stream",
     "text": [
      "huggingface/tokenizers: The current process just got forked, after parallelism has already been used. Disabling parallelism to avoid deadlocks...\n",
      "To disable this warning, you can either:\n",
      "\t- Avoid using `tokenizers` before the fork if possible\n",
      "\t- Explicitly set the environment variable TOKENIZERS_PARALLELISM=(true | false)\n",
      "huggingface/tokenizers: The current process just got forked, after parallelism has already been used. Disabling parallelism to avoid deadlocks...\n",
      "To disable this warning, you can either:\n",
      "\t- Avoid using `tokenizers` before the fork if possible\n",
      "\t- Explicitly set the environment variable TOKENIZERS_PARALLELISM=(true | false)\n",
      "huggingface/tokenizers: The current process just got forked, after parallelism has already been used. Disabling parallelism to avoid deadlocks...\n",
      "To disable this warning, you can either:\n",
      "\t- Avoid using `tokenizers` before the fork if possible\n",
      "\t- Explicitly set the environment variable TOKENIZERS_PARALLELISM=(true | false)\n",
      "huggingface/tokenizers: The current process just got forked, after parallelism has already been used. Disabling parallelism to avoid deadlocks...\n",
      "To disable this warning, you can either:\n",
      "\t- Avoid using `tokenizers` before the fork if possible\n",
      "\t- Explicitly set the environment variable TOKENIZERS_PARALLELISM=(true | false)\n",
      "huggingface/tokenizers: The current process just got forked, after parallelism has already been used. Disabling parallelism to avoid deadlocks...\n",
      "To disable this warning, you can either:\n",
      "\t- Avoid using `tokenizers` before the fork if possible\n",
      "\t- Explicitly set the environment variable TOKENIZERS_PARALLELISM=(true | false)\n",
      "huggingface/tokenizers: The current process just got forked, after parallelism has already been used. Disabling parallelism to avoid deadlocks...\n",
      "To disable this warning, you can either:\n",
      "\t- Avoid using `tokenizers` before the fork if possible\n",
      "\t- Explicitly set the environment variable TOKENIZERS_PARALLELISM=(true | false)\n",
      "huggingface/tokenizers: The current process just got forked, after parallelism has already been used. Disabling parallelism to avoid deadlocks...\n",
      "To disable this warning, you can either:\n",
      "\t- Avoid using `tokenizers` before the fork if possible\n",
      "\t- Explicitly set the environment variable TOKENIZERS_PARALLELISM=(true | false)\n",
      "huggingface/tokenizers: The current process just got forked, after parallelism has already been used. Disabling parallelism to avoid deadlocks...\n",
      "To disable this warning, you can either:\n",
      "\t- Avoid using `tokenizers` before the fork if possible\n",
      "\t- Explicitly set the environment variable TOKENIZERS_PARALLELISM=(true | false)\n",
      "huggingface/tokenizers: The current process just got forked, after parallelism has already been used. Disabling parallelism to avoid deadlocks...\n",
      "To disable this warning, you can either:\n",
      "\t- Avoid using `tokenizers` before the fork if possible\n",
      "\t- Explicitly set the environment variable TOKENIZERS_PARALLELISM=(true | false)\n",
      "huggingface/tokenizers: The current process just got forked, after parallelism has already been used. Disabling parallelism to avoid deadlocks...\n",
      "To disable this warning, you can either:\n",
      "\t- Avoid using `tokenizers` before the fork if possible\n",
      "\t- Explicitly set the environment variable TOKENIZERS_PARALLELISM=(true | false)\n"
     ]
    }
   ],
   "source": [
    "import time\n",
    "from joblib import Parallel, delayed\n",
    "start = time.time()\n",
    "results = Parallel(n_jobs=10)(delayed(run)(result) for result in results)\n",
    "print(time.time() - start)"
   ]
  },
  {
   "cell_type": "code",
   "execution_count": 43,
   "id": "47484cc3",
   "metadata": {},
   "outputs": [
    {
     "data": {
      "text/plain": [
       "[defaultdict(list,\n",
       "             {'https://online.princeton.edu/computer-architecture': ['This course can help learners form a strong foundation in the understanding and design of modern computing systems. Building on a computer organization base, this course explores techniques that go into designing a modern microprocessor. Fundamental understanding of computer architecture is key not only for students interested in hardware and processor design, but is a foundation for students interested in compilers, operating systems, and high performance programming. This course will explore how the computer architect can utilize the increasing number of transistors available to improve the performance of a processor.',\n",
       "               'Focus will be given to architectures that can exploit different forms of parallelism, whether they be implicit or explicit. This course covers architectural techniques such as multi-issue superscalar processors, out-of-order processors, Very Long Instruction Word (VLIW) processors, advanced caching, and multiprocessor systems.',\n",
       "               '\"Thank you for making this excellent course available! It was very insightful, the explanations were great -- it really helped to understand a lot of the behind-the-scenes magic that I\\'ve been taking for granted in 20 years as a software engineer. Thanks a lot!\"',\n",
       "               '\"I am a VLSI Design professional working in the field of CPU/SoC architecture and Design. This course helped me to reinforce the basics and also to find more interesting topics to explore and research. The course content was very good covering the essential concepts.\"']}),\n",
       " defaultdict(list, {}),\n",
       " defaultdict(list,\n",
       "             {'https://www.educba.com/types-of-computer-architecture/': ['Computer architecture consists of rules and methods or procedures which describe the implementation, functionality of the computer systems. Architecture is built as per the user’s needs by taking care of the economic and financial constraints. Earlier architecture is designed on paper built with hardware form.',\n",
       "               'After it is built-in transistor-transistor logic the architecture is built, tested and formed in the hardware form. We can define computer architecture based on its performance, efficiency, reliability, and cost of the computer system. It deals with software and hardware technology standards. The computer system has the processor, memory, I/O devices and communication channels that connect to it.',\n",
       "               'The memory we have a single read/write memory available for read and write instructions and data. When we talk about memory, it is nothing but the single location which is used for reading and writing instructions for the data and instructions are also present in it. Data and instructions are stored in a single read/write memory within the computer system.',\n",
       "               'Each memory has multiple locations and each location has a unique address. We can address the contents of memory by its location irrespective of what type of data and instructions are present in the memory, because of which we can read or write any data and instructions. Execution always occurs in a sequential manner unless the change is required. For example, suppose we are executing an instruction from line 1 to line 10 but now we required to execute line 50 instead of line 11 then we jump to instruction 50 and execute it.',\n",
       "               'There is a bus (address bus/data bus/control bus) used for the instruction and data code execution. Input device takes data or instruction and the Central processing unit (CPU) performs one operation at a time, either fetching data or instruction in/out of the memory. Once the operation is done it is sent to the output device. Control and logic units for processing operations are within the central processing unit.',\n",
       "               'Harvard architecture is used when data and code is present in different memory blocks. A separate memory block is needed for data and instruction. Data can be accessed by one memory location and instruction can be accessed by a different location. It has data storage entirely contained within the central processing unit (CPU). A single set of clock cycles is required. The pipeline is possible. It is complex to design. CPU can read and write instructions and process data access. Harvard architecture has different access codes and data address spaces that is, the instruction address zero is not the same as data address zero. Instruction address zero identifies 24-byte value and data address zero identifies 8-byte value which is not the part of the 24-byte value.',\n",
       "               'Modified harvard architecture is like a harvard architecture machine and it has a common address space for the separate data and instruction cache. It has digital signal processors that will execute small or highly audio or video algorithms and it is reproducible. Microcontrollers have a small number of programs and data memory and it speeds up the processing by executing parallel instructions and data access.',\n",
       "               'We can observe in the below image, there are separate data and instruction memory that is a bus available to perform operations. It is contained entirely within the Central processing unit. It can perform Input/output operation simultaneously and it has a separate arithmetic and logic unit.',\n",
       "               'To make up the architecture, instruction set architecture is needed because it has a set of instructions that the processor understands. It has two instruction set one is RISC (reduced instruction set computer) and the second is CISC (complex instruction set computer).',\n",
       "               'Reduced instruction set computer architecture was realized in the 90’s by IBM. Instruction has multiple address modes, but programs do not use all of them that is the reason multiple address modes were reduced. This helps the compiler to easily write the instructions, performed is increased.',\n",
       "               'Complex instruction set architecture is the root of compilers because earlier compilers were not there to write programs, to ease programming instructions are added. The best performance is obtained by using simple instruction from ISA.',\n",
       "               'Microarchitecture is known as computer organizations and it is the way when instruction set architecture is a built-in processor. Instruction set architecture is implemented with various microarchitecture and it varies because of changing technology.',\n",
       "               'Microarchitecture performs in a certain way. It reads the instruction and decodes it, will find parallel data to process the instruction and then will process the instruction and output will be generated.',\n",
       "               'It is used in microprocessors, microcontrollers. Some architectures overlap multiple instructions while executing but this does not happen in microarchitecture. Execution units like arithmetic logic units, floating-point units, load units, etc are needed and it performs the operation of the processor. There are microarchitecture decisions within the system such as size, latency, and connectivity of the memories.',\n",
       "               'The name defines itself, the design will satisfy user requirements such as architecture, module, interfaces and data for a system and it is connected to product development. It is the process of taking marketing information and creating product design to be manufacture. Modular systems are made by standardizing hardware and software.',\n",
       "               'We have learned about computer architecture and its types. How functionality, implementation works in processing. Instruction set architecture is needed to do the needful instruction execution and data processing should be done in a different and single memory location in different types of computer architectures. Read/write operations are performed.',\n",
       "               'This is a guide to Types of Computer Architecture. Here we discuss the basic concept and different types of computer architecture in detail. You may also have a look at the following articles to learn more –',\n",
       "               'This website or its third-party tools use cookies, which are necessary to its functioning and required to achieve the purposes illustrated in the cookie policy. By closing this banner, scrolling this page, clicking a link or continuing to browse otherwise, you agree to our Privacy Policy']}),\n",
       " defaultdict(list,\n",
       "             {'https://learn.saylor.org/course/CS301': [\"Learn new skills or earn credit towards a degree at your own pace with no deadlines, using free courses from Saylor Academy. We're committed to removing barriers to education and helping you build essential skills to advance your career goals. Start learning here, or check out our full course catalog.\",\n",
       "               'Time: 48 hours Free Certificate Modern computer technology requires an understanding of both hardware and software, since the interaction between the two offers a framework for mastering the fundamentals of computing. The purpose of this course is to cultivate an understanding of modern computing technology through an in-depth study of the interface between hardware and software. In this course, you will study the history of modern computing technology before learning about modern computer architecture and a number of its essential features, including instruction sets, processor arithmetic and control, the Von Neumann architecture, pipelining, memory management, storage, and other input/output topics. The course will conclude with a look at the recent switch from sequential processing to parallel processing by looking at the parallel computing models and their programming implications.',\n",
       "               'First, read the course syllabus. Then, enroll in the course by clicking \"Enroll me in this course\". Click Unit 1 to read its introduction and learning outcomes. You will then see the learning materials and instructions on how to use them.',\n",
       "               'In this unit, we will discuss some of the advances in technology that led to the development of modern computers. We will begin our study with a look at the different components of a computer. We will then discuss the ways in which we measure hardware and software performance before discussing the importance of computing power and how it motivated the switch from a single-core to a multi-core processor.',\n",
       "               'In order to understand computer architecture, you need to understand the components that comprise a computer and their interconnections. Sets of instructions, called programs, describe the computations that computers carry out. The instructions are strings of binary digits. When symbols are used for the binary strings, the instructions are called assembly language instructions. Components interpret the instructions and send signals to other components that cause the instruction to be carried out.',\n",
       "               'In this unit, you will build on your knowledge of programming from CS102: Introduction to Computer Science II to learn how to program with an assembly language. You will use the instructions of a real processor, MIPS, to understand the basics of hardware language. We will also discuss the different classes of instructions typically found in computers and compare the MIPS instructions to those found in other popular processors made by Intel and ARM.',\n",
       "               'We will begin this unit with an overview of digital components, identifying the building blocks of digital logic. We will build on that foundation by writing truth tables and learning about more complicated sequential digital systems with memory. This unit serves as background information for the processor design techniques we learn in later units.',\n",
       "               'In this unit, you will build upon your knowledge of computer instructions and digital logic design to discuss the role of computer arithmetic in hardware design. We will also discuss the designs of adders, multipliers, and dividers. You will learn that there are two types of arithmetic operations performed by computers: integer and floating point. Finally, we will discuss floating point details for carrying out operations with real numbers.',\n",
       "               'In this unit, we will discuss various components of MIPS processor architecture and then take a subset of MIPS instructions to create a simplified processor in order to better understand the steps in processor design. This unit will ask you to apply the information you learned in units 2, 3, and 4 to create a simple processor architecture. We will also discuss a technique known as pipelining, which is used to improve processor performance. We will also identify the issues that limit the performance gains that can be achieved from it.',\n",
       "               'In previous units, you learned about how computer memory stores information, in particular how numbers are represented in a computer memory word (typically, 32 or 64 bits); hardware elements that perform logic functions; the use of these elements to design larger hardware components that perform arithmetic computations, in particular addition and multiplication; and the use of these larger components to design additional components that perform subtraction and division. You also looked at machine language and assembly language instructions that provide control to hardware components in carrying out computations. In this unit, you will learn about how the larger components are used in designing a computer system.',\n",
       "               'In prior units, you have studied elementary hardware components like combinational circuits and sequential circuits, functional hardware components like adders, arithmetic logical units, and data buses, and computational components like processors.',\n",
       "               'This unit will address the memory hierarchy of a computer and will identify different types of memory and how they interact with one another. This unit will look into a memory type known as cache and will discuss how caches improve computer performance. This unit will then discuss the main memory, DRAM (or the Dynamic Random Access Memory), and the associated concept of virtual memory. You will take a look at the common framework for memory hierarchy. The unit concludes with a review of the design of a cache hierarchy for an industrial microprocessor.',\n",
       "               'In this unit, we will discuss the input/output devices that enable communication between computers and the outside world in some form. The reliability of these devices is important; we will accordingly discuss the related issues of dependability, availability, and reliability. You will also take a look at non-volatile storage mediums, such as disk and flash memory, before learning about mechanisms used to connect the computer to input/output devices. This unit will conclude by discussing disk system performance measures.',\n",
       "               \"This unit will address several advanced topics in computer architecture, focusing on the reasons for and the consequences of the recent switch from sequential processing to parallel processing by hardware producers. You will learn that parallel programming is not easy and that parallel processing imposes certain limitations in performance gains, as seen in the well-known Amdahl's law. You will also look into the concepts of shared memory multiprocessing and cluster processing as two common means of improving performance with parallelism. The unit will conclude with a look at some of the programming techniques used in the context of parallel machines.\",\n",
       "               'This unit looks back at important concepts of computer architecture that were covered in this course and looks ahead at some additional topics of interest. Computer architecture is both a depth and breadth subject. It is an in depth subject that is of particular interest if you are interested in computer architecture for a professional researcher, designer, developer, tester, manager, manufacturer, etc. and you want to continue with additional study in advanced computer architecture. On the other hand, computer architecture is a rich source of ideas and understanding for other areas of computer science, giving you a broad and stronger foundation for the study of programming, computer languages, compilers, software architecture, domain specific computing (like scientific computing), and more.',\n",
       "               'In this unit, you will look back at some of the theoretical laws and analysis techniques that were introduced during the course. Looking ahead, you will be introduced to special purpose processors, application specific processing, high volume data storage, and network computing.',\n",
       "               'Please take a few minutes to give us feedback about this course. We appreciate your feedback, whether you completed the whole course or even just a few resources. Your feedback will help us make our courses better, and we use your feedback each time we make updates to our courses.',\n",
       "               'To receive a free Course Completion Certificate, you will need to earn a grade of 70% or higher on this final exam. Your grade for the exam will be calculated as soon as you complete it. If you do not pass the exam on your first try, you can take it again as many times as you want, with a 7-day waiting period between each attempt.',\n",
       "               '© Saylor Academy 2010-2022 except as otherwise noted. Excluding course final exams, content authored by Saylor Academy is available under a Creative Commons Attribution 3.0 Unported license. Third-party materials are the copyright of their respective owners and shared under various licenses. See detailed licensing information.',\n",
       "               'Saylor Academy®, Saylor.org®, and Harnessing Technology to Make Education Free® are trade names of the Constitution Foundation, a 501(c)(3) organization through which our educational activities are conducted.']}),\n",
       " defaultdict(list,\n",
       "             {'https://en.wikipedia.org/wiki/Computer_architecture': ['In computer engineering, computer architecture is a set of rules and methods that describe the functionality, organization, and implementation of computer systems. The architecture of a system refers to its structure in terms of separately specified components of that system and their interrelationships. ',\n",
       "               'Some definitions of architecture define it as describing the capabilities and programming model of a computer but not a particular implementation.  In other definitions computer architecture involves instruction set architecture design, microarchitecture design, logic design, and implementation. ',\n",
       "               'The first documented computer architecture was in the correspondence between Charles Babbage and Ada Lovelace, describing the analytical engine. When building the computer Z1 in 1936, Konrad Zuse described in two patent applications for his future projects that machine instructions could be stored in the same storage used for data, i.e., the stored-program concept.   Two other early and important examples are:',\n",
       "               \"The term “architecture” in computer literature can be traced to the work of Lyle R. Johnson and Frederick P. Brooks, Jr., members of the Machine Organization department in IBM's main research center in 1959. Johnson had the opportunity to write a proprietary research communication about the Stretch, an IBM-developed supercomputer for Los Alamos National Laboratory (at the time known as Los Alamos Scientific Laboratory). To describe the level of detail for discussing the luxuriously embellished computer, he noted that his description of formats, instruction types, hardware parameters, and speed enhancements were at the level of “system architecture”, a term that seemed more useful than “machine organization”. \",\n",
       "               'Subsequently, Brooks, a Stretch designer, opened Chapter 2 of a book called Planning a Computer System: Project Stretch by stating, “Computer architecture, like other architecture, is the art of determining the needs of the user of a structure and then designing to meet those needs as effectively as possible within economic and technological constraints.” ',\n",
       "               'Brooks went on to help develop the IBM System/360 (now called the IBM zSeries) line of computers, in which “architecture” became a noun defining “what the user needs to know”.  Later, computer users came to use the term in many less explicit ways. ',\n",
       "               'The earliest computer architectures were designed on paper and then directly built into the final hardware form.  Later, computer architecture prototypes were physically built in the form of a transistor–transistor logic (TTL) computer—such as the prototypes of the 6800 and the PA-RISC —tested, and tweaked, before committing to the final hardware form. As of the 1990s, new computer architectures are typically \"built\", tested, and tweaked—inside some other computer architecture in a computer architecture simulator; or inside a FPGA as a soft microprocessor; or both—before committing to the final hardware form. ',\n",
       "               'There are other technologies in computer architecture. The following technologies are used in bigger companies like Intel, and were estimated in 2002  to count for 1% of all of computer architecture:',\n",
       "               'Computer architecture is concerned with balancing the performance, efficiency, cost, and reliability of a computer system. The case of instruction set architecture can be used to illustrate the balance of these competing factors. More complex instruction sets enable programmers to write more space efficient programs, since a single instruction can encode some higher-level abstraction (such as the x86 Loop instruction).  However, longer and more complex instructions take longer for the processor to decode and can be more costly to implement effectively. The increased complexity from a large instruction set also creates more room for unreliability when instructions interact in unexpected ways.',\n",
       "               'The implementation involves integrated circuit design, packaging, power, and cooling. Optimization of the design requires familiarity with compilers, operating systems to logic design, and packaging. ',\n",
       "               \"An instruction set architecture (ISA) is the interface between the computer's software and hardware and also can be viewed as the programmer's view of the machine. Computers do not understand high-level programming languages such as Java, C++, or most programming languages used. A processor only understands instructions encoded in some numerical fashion, usually as binary numbers. Software tools, such as compilers, translate those high level languages into instructions that the processor can understand.\",\n",
       "               'Besides instructions, the ISA defines items in the computer that are available to a program—e.g., data types, registers, addressing modes, and memory. Instructions locate these available items with register indexes (or names) and memory addressing modes.',\n",
       "               'The ISA of a computer is usually described in a small instruction manual, which describes how the instructions are encoded. Also, it may define short (vaguely) mnemonic names for the instructions. The names can be recognized by a software development tool called an assembler. An assembler is a computer program that translates a human-readable form of the ISA into a computer-readable form. Disassemblers are also widely available, usually in debuggers and software programs to isolate and correct malfunctions in binary computer programs.',\n",
       "               'ISAs vary in quality and completeness. A good ISA compromises between programmer convenience (how easy the code is to understand), size of the code (how much code is required to do a specific action), cost of the computer to interpret the instructions (more complexity means more hardware needed to decode and execute the instructions), and speed of the computer (with more complex decoding hardware comes longer decode time). Memory organization defines how instructions interact with the memory, and how memory interacts with itself.',\n",
       "               'During design emulation, emulators can run programs written in a proposed instruction set. Modern emulators can measure size, cost, and speed to determine whether a particular ISA is meeting its goals.',\n",
       "               \"Computer organization helps optimize performance-based products. For example, software engineers need to know the processing power of processors. They may need to optimize software in order to gain the most performance for the lowest price. This can require quite a detailed analysis of the computer's organization. For example, in an SD card, the designers might need to arrange the card so that the most data can be processed in the fastest possible way.\",\n",
       "               'Computer organization also helps plan the selection of a processor for a particular project. Multimedia projects may need very rapid data access, while virtual machines may need fast interrupts. Sometimes certain tasks need additional components as well. For example, a computer capable of running a virtual machine needs virtual memory hardware so that the memory of different virtual computers can be kept separated. Computer organization and features also affect power consumption and processor cost.',\n",
       "               'Once an instruction set and micro-architecture have been designed, a practical machine must be developed. This design process is called the implementation. Implementation is usually not considered architectural design, but rather hardware design engineering. Implementation can be further broken down into several steps:',\n",
       "               'The exact form of a computer system depends on the constraints and goals. Computer architectures usually trade off standards, power versus performance, cost, memory capacity, latency (latency is the amount of time that it takes for information from one node to travel to the source) and throughput. Sometimes other considerations, such as features, size, weight, reliability, and expandability are also factors.',\n",
       "               'Modern computer performance is often described in instructions per cycle (IPC), which measures the efficiency of the architecture at any clock frequency; a faster IPC rate means the computer is faster. Older computers had IPC counts as low as 0.1 while modern processors easily reach near 1. Superscalar processors may reach three to five IPC by executing several instructions per clock cycle. ',\n",
       "               'Counting machine-language instructions would be misleading because they can do varying amounts of work in different ISAs. The \"instruction\" in the standard measurements is not a count of the ISA\\'s machine-language instructions, but a unit of measurement, usually based on the speed of the VAX computer architecture.',\n",
       "               \"Many people used to measure a computer's speed by the clock rate (usually in MHz or GHz). This refers to the cycles per second of the main clock of the CPU. However, this metric is somewhat misleading, as a machine with a higher clock rate may not necessarily have greater performance. As a result, manufacturers have moved away from clock speed as a measure of performance.\",\n",
       "               'There are two main types of speed: latency and throughput. Latency is the time between the start of a process and its completion. Throughput is the amount of work done per unit time. Interrupt latency is the guaranteed maximum response time of the system to an electronic event (like when the disk drive finishes moving some data).',\n",
       "               'Performance is affected by a very wide range of design choices — for example, pipelining a processor usually makes latency worse, but makes throughput better. Computers that control machinery usually need low interrupt latencies. These computers operate in a real-time environment and fail if an operation is not completed in a specified amount of time. For example, computer-controlled anti-lock brakes must begin braking within a predictable and limited time period after the brake pedal is sensed or else failure of the brake will occur.',\n",
       "               \"Benchmarking takes all these factors into account by measuring the time a computer takes to run through a series of test programs. Although benchmarking shows strengths, it shouldn't be how you choose a computer. Often the measured machines split on different measures. For example, one system might handle scientific applications quickly, while another might render video games more smoothly. Furthermore, designers may target and add special features to their products, through hardware or software, that permit a specific benchmark to execute quickly but don't offer similar advantages to general tasks.\",\n",
       "               'Power efficiency is another important measurement in modern computers. A higher power efficiency can often be traded for lower speed or higher cost. The typical measurement when referring to power consumption in computer architecture is MIPS/W (millions of instructions per second per watt).',\n",
       "               'Modern circuits have less power required per transistor as the number of transistors per chip grows.  This is because each transistor that is put in a new chip requires its own power supply and requires new pathways to be built to power it. However the number of transistors per chip is starting to increase at a slower rate. Therefore, power efficiency is starting to become as important, if not more important than fitting more and more transistors into a single chip. Recent processor designs have shown this emphasis as they put more focus on power efficiency rather than cramming as many transistors into a single chip as possible.  In the world of embedded computers, power efficiency has long been an important goal next to throughput and latency.']}),\n",
       " defaultdict(list,\n",
       "             {'https://www.tutorialspoint.com/what-is-computer-architecture': ['Computer architecture can be defined as a set of rules and methods that describe the functionality, management and implementation of computers. To be precise, it is nothing but rules by which a system performs and operates.',\n",
       "               'Instruction set Architecture or ISA − Whenever an instruction is given to processor, its role is to read and act accordingly. It allocates memory to instructions and also acts upon memory address mode (Direct Addressing mode or Indirect Addressing mode).',\n",
       "               \"For Example − Instruction set architecture (ISA) acts as a bridge between computer's software and hardware. It works as a programmer's view of a machine.\",\n",
       "               'Computers can only understand binary language (i.e., 0, 1) and users understand high level language (i.e., if else, while, conditions, etc). So to communicate between user and computer, Instruction set Architecture plays a major role here, translating high level language to binary language.']}),\n",
       " defaultdict(list,\n",
       "             {'https://www.cs.rutgers.edu/academics/undergraduate/course-synopses/course-details/01-198-211-computer-architecture': ['This course covers the fundamental issues in the design of modern computer systems, including the design and implementation of key hardware components such as the processor, memory, and I/O devices, and the software/hardware interface.',\n",
       "               'Copyright 2022, Rutgers, The State University of New Jersey. All rights reserved. Rutgers is an equal access/equal opportunity institution. Individuals with disabilities are encouraged to direct suggestions, comments, or complaints concerning any accessibility issues with Rutgers web sites to: accessibility@rutgers.edu or complete the Report Accessibility Barrier or Provide Feedback Form.']})]"
      ]
     },
     "execution_count": 43,
     "metadata": {},
     "output_type": "execute_result"
    }
   ],
   "source": [
    "results"
   ]
  },
  {
   "cell_type": "code",
   "execution_count": null,
   "id": "e540759b",
   "metadata": {},
   "outputs": [],
   "source": []
  },
  {
   "cell_type": "markdown",
   "id": "d14311ce",
   "metadata": {},
   "source": [
    "## Subheading classification and dataset generation"
   ]
  },
  {
   "cell_type": "code",
   "execution_count": 14,
   "id": "a47b458c",
   "metadata": {},
   "outputs": [
    {
     "name": "stderr",
     "output_type": "stream",
     "text": [
      "100%|█████████████████████████████████████████████| 6/6 [00:14<00:00,  2.39s/it]\n"
     ]
    }
   ],
   "source": [
    "topic_subheading_dataset = defaultdict(lambda: defaultdict(list))\n",
    "for webpage, data in tqdm(raw_dataset.items()):\n",
    "    paragraph_embedding = torch.tensor(model.encode(data))\n",
    "    labels = torch.argmax((features_tensor @ paragraph_embedding.T), axis=0)\n",
    "    for paragraph, label in zip(data, labels):\n",
    "        if len(topic_subheading_dataset[important_subsections[label]]) > 5:\n",
    "            continue\n",
    "        topic_subheading_dataset[important_subsections[label]][webpage].append(paragraph)"
   ]
  },
  {
   "cell_type": "code",
   "execution_count": 15,
   "id": "aac2c788",
   "metadata": {},
   "outputs": [
    {
     "name": "stdout",
     "output_type": "stream",
     "text": [
      "overview :  5\n",
      "source :  4\n",
      "type :  6\n",
      "history :  5\n"
     ]
    }
   ],
   "source": [
    "for subheading, websites in topic_subheading_dataset.items():\n",
    "    print(subheading, ': ', len(websites))"
   ]
  },
  {
   "cell_type": "markdown",
   "id": "beaa60e6",
   "metadata": {},
   "source": [
    "## Summarization"
   ]
  },
  {
   "cell_type": "code",
   "execution_count": 16,
   "id": "9eb3d965",
   "metadata": {},
   "outputs": [],
   "source": [
    "tokenizer = BertTokenizer.from_pretrained('bert-base-uncased',\n",
    "                                          do_lower_case=True)\n",
    "summarizer = pipeline('summarization', model=\"sshleifer/distilbart-cnn-12-6\" )\n",
    "import spacy\n",
    "nlp = spacy.load('en_core_web_sm')\n",
    "import language_tool_python"
   ]
  },
  {
   "cell_type": "code",
   "execution_count": 17,
   "id": "93ad4b0d",
   "metadata": {},
   "outputs": [],
   "source": [
    "summarized_dataset = defaultdict(lambda: defaultdict(str))"
   ]
  },
  {
   "cell_type": "code",
   "execution_count": 18,
   "id": "73276b6a",
   "metadata": {},
   "outputs": [
    {
     "name": "stderr",
     "output_type": "stream",
     "text": [
      "  0%|                                                     | 0/4 [00:00<?, ?it/s]\n",
      "  0%|                                                     | 0/5 [00:00<?, ?it/s]\u001b[A"
     ]
    },
    {
     "name": "stdout",
     "output_type": "stream",
     "text": [
      "huggingface/tokenizers: The current process just got forked, after parallelism has already been used. Disabling parallelism to avoid deadlocks...\n",
      "To disable this warning, you can either:\n",
      "\t- Avoid using `tokenizers` before the fork if possible\n",
      "\t- Explicitly set the environment variable TOKENIZERS_PARALLELISM=(true | false)\n",
      "huggingface/tokenizers: The current process just got forked, after parallelism has already been used. Disabling parallelism to avoid deadlocks...\n",
      "To disable this warning, you can either:\n",
      "\t- Avoid using `tokenizers` before the fork if possible\n",
      "\t- Explicitly set the environment variable TOKENIZERS_PARALLELISM=(true | false)\n"
     ]
    },
    {
     "name": "stderr",
     "output_type": "stream",
     "text": [
      "\n",
      " 20%|█████████                                    | 1/5 [00:16<01:06, 16.58s/it]\u001b[A"
     ]
    },
    {
     "name": "stdout",
     "output_type": "stream",
     "text": [
      "huggingface/tokenizers: The current process just got forked, after parallelism has already been used. Disabling parallelism to avoid deadlocks...\n",
      "To disable this warning, you can either:\n",
      "\t- Avoid using `tokenizers` before the fork if possible\n",
      "\t- Explicitly set the environment variable TOKENIZERS_PARALLELISM=(true | false)\n",
      "huggingface/tokenizers: The current process just got forked, after parallelism has already been used. Disabling parallelism to avoid deadlocks...\n",
      "To disable this warning, you can either:\n",
      "\t- Avoid using `tokenizers` before the fork if possible\n",
      "\t- Explicitly set the environment variable TOKENIZERS_PARALLELISM=(true | false)\n"
     ]
    },
    {
     "name": "stderr",
     "output_type": "stream",
     "text": [
      "\n",
      " 40%|██████████████████                           | 2/5 [00:30<00:44, 14.72s/it]\u001b[A"
     ]
    },
    {
     "name": "stdout",
     "output_type": "stream",
     "text": [
      "huggingface/tokenizers: The current process just got forked, after parallelism has already been used. Disabling parallelism to avoid deadlocks...\n",
      "To disable this warning, you can either:\n",
      "\t- Avoid using `tokenizers` before the fork if possible\n",
      "\t- Explicitly set the environment variable TOKENIZERS_PARALLELISM=(true | false)\n",
      "huggingface/tokenizers: The current process just got forked, after parallelism has already been used. Disabling parallelism to avoid deadlocks...\n",
      "To disable this warning, you can either:\n",
      "\t- Avoid using `tokenizers` before the fork if possible\n",
      "\t- Explicitly set the environment variable TOKENIZERS_PARALLELISM=(true | false)\n"
     ]
    },
    {
     "name": "stderr",
     "output_type": "stream",
     "text": [
      "\n",
      " 60%|███████████████████████████                  | 3/5 [00:43<00:28, 14.21s/it]\u001b[AToken indices sequence length is longer than the specified maximum sequence length for this model (998 > 512). Running this sequence through the model will result in indexing errors\n"
     ]
    },
    {
     "name": "stdout",
     "output_type": "stream",
     "text": [
      "huggingface/tokenizers: The current process just got forked, after parallelism has already been used. Disabling parallelism to avoid deadlocks...\n",
      "To disable this warning, you can either:\n",
      "\t- Avoid using `tokenizers` before the fork if possible\n",
      "\t- Explicitly set the environment variable TOKENIZERS_PARALLELISM=(true | false)\n",
      "huggingface/tokenizers: The current process just got forked, after parallelism has already been used. Disabling parallelism to avoid deadlocks...\n",
      "To disable this warning, you can either:\n",
      "\t- Avoid using `tokenizers` before the fork if possible\n",
      "\t- Explicitly set the environment variable TOKENIZERS_PARALLELISM=(true | false)\n"
     ]
    },
    {
     "name": "stderr",
     "output_type": "stream",
     "text": [
      "\n",
      " 80%|████████████████████████████████████         | 4/5 [00:58<00:14, 14.30s/it]\u001b[A"
     ]
    },
    {
     "name": "stdout",
     "output_type": "stream",
     "text": [
      "huggingface/tokenizers: The current process just got forked, after parallelism has already been used. Disabling parallelism to avoid deadlocks...\n",
      "To disable this warning, you can either:\n",
      "\t- Avoid using `tokenizers` before the fork if possible\n",
      "\t- Explicitly set the environment variable TOKENIZERS_PARALLELISM=(true | false)\n",
      "huggingface/tokenizers: The current process just got forked, after parallelism has already been used. Disabling parallelism to avoid deadlocks...\n",
      "To disable this warning, you can either:\n",
      "\t- Avoid using `tokenizers` before the fork if possible\n",
      "\t- Explicitly set the environment variable TOKENIZERS_PARALLELISM=(true | false)\n"
     ]
    },
    {
     "name": "stderr",
     "output_type": "stream",
     "text": [
      "\n",
      "100%|█████████████████████████████████████████████| 5/5 [01:10<00:00, 14.09s/it]\u001b[A\n",
      " 25%|███████████▎                                 | 1/4 [01:10<03:31, 70.47s/it]\n",
      "  0%|                                                     | 0/4 [00:00<?, ?it/s]\u001b[AYour max_length is set to 100, but you input_length is only 56. You might consider decreasing max_length manually, e.g. summarizer('...', max_length=28)\n"
     ]
    },
    {
     "name": "stdout",
     "output_type": "stream",
     "text": [
      "huggingface/tokenizers: The current process just got forked, after parallelism has already been used. Disabling parallelism to avoid deadlocks...\n",
      "To disable this warning, you can either:\n",
      "\t- Avoid using `tokenizers` before the fork if possible\n",
      "\t- Explicitly set the environment variable TOKENIZERS_PARALLELISM=(true | false)\n",
      "huggingface/tokenizers: The current process just got forked, after parallelism has already been used. Disabling parallelism to avoid deadlocks...\n",
      "To disable this warning, you can either:\n",
      "\t- Avoid using `tokenizers` before the fork if possible\n",
      "\t- Explicitly set the environment variable TOKENIZERS_PARALLELISM=(true | false)\n"
     ]
    },
    {
     "name": "stderr",
     "output_type": "stream",
     "text": [
      "\n",
      " 25%|███████████▎                                 | 1/4 [00:13<00:40, 13.41s/it]\u001b[AYour max_length is set to 100, but you input_length is only 61. You might consider decreasing max_length manually, e.g. summarizer('...', max_length=30)\n"
     ]
    },
    {
     "name": "stdout",
     "output_type": "stream",
     "text": [
      "huggingface/tokenizers: The current process just got forked, after parallelism has already been used. Disabling parallelism to avoid deadlocks...\n",
      "To disable this warning, you can either:\n",
      "\t- Avoid using `tokenizers` before the fork if possible\n",
      "\t- Explicitly set the environment variable TOKENIZERS_PARALLELISM=(true | false)\n",
      "huggingface/tokenizers: The current process just got forked, after parallelism has already been used. Disabling parallelism to avoid deadlocks...\n",
      "To disable this warning, you can either:\n",
      "\t- Avoid using `tokenizers` before the fork if possible\n",
      "\t- Explicitly set the environment variable TOKENIZERS_PARALLELISM=(true | false)\n"
     ]
    },
    {
     "name": "stderr",
     "output_type": "stream",
     "text": [
      "\n",
      " 50%|██████████████████████▌                      | 2/4 [00:26<00:26, 13.38s/it]\u001b[A"
     ]
    },
    {
     "name": "stdout",
     "output_type": "stream",
     "text": [
      "huggingface/tokenizers: The current process just got forked, after parallelism has already been used. Disabling parallelism to avoid deadlocks...\n",
      "To disable this warning, you can either:\n",
      "\t- Avoid using `tokenizers` before the fork if possible\n",
      "\t- Explicitly set the environment variable TOKENIZERS_PARALLELISM=(true | false)\n",
      "huggingface/tokenizers: The current process just got forked, after parallelism has already been used. Disabling parallelism to avoid deadlocks...\n",
      "To disable this warning, you can either:\n",
      "\t- Avoid using `tokenizers` before the fork if possible\n",
      "\t- Explicitly set the environment variable TOKENIZERS_PARALLELISM=(true | false)\n"
     ]
    },
    {
     "name": "stderr",
     "output_type": "stream",
     "text": [
      "\n",
      " 75%|█████████████████████████████████▊           | 3/4 [00:40<00:13, 13.52s/it]\u001b[A"
     ]
    },
    {
     "name": "stdout",
     "output_type": "stream",
     "text": [
      "huggingface/tokenizers: The current process just got forked, after parallelism has already been used. Disabling parallelism to avoid deadlocks...\n",
      "To disable this warning, you can either:\n",
      "\t- Avoid using `tokenizers` before the fork if possible\n",
      "\t- Explicitly set the environment variable TOKENIZERS_PARALLELISM=(true | false)\n",
      "huggingface/tokenizers: The current process just got forked, after parallelism has already been used. Disabling parallelism to avoid deadlocks...\n",
      "To disable this warning, you can either:\n",
      "\t- Avoid using `tokenizers` before the fork if possible\n",
      "\t- Explicitly set the environment variable TOKENIZERS_PARALLELISM=(true | false)\n"
     ]
    },
    {
     "name": "stderr",
     "output_type": "stream",
     "text": [
      "\n",
      "100%|█████████████████████████████████████████████| 4/4 [00:53<00:00, 13.25s/it]\u001b[A\n",
      " 50%|██████████████████████▌                      | 2/4 [02:03<02:00, 60.21s/it]\n",
      "  0%|                                                     | 0/6 [00:00<?, ?it/s]\u001b[AYour max_length is set to 100, but you input_length is only 55. You might consider decreasing max_length manually, e.g. summarizer('...', max_length=27)\n"
     ]
    },
    {
     "name": "stdout",
     "output_type": "stream",
     "text": [
      "huggingface/tokenizers: The current process just got forked, after parallelism has already been used. Disabling parallelism to avoid deadlocks...\n",
      "To disable this warning, you can either:\n",
      "\t- Avoid using `tokenizers` before the fork if possible\n",
      "\t- Explicitly set the environment variable TOKENIZERS_PARALLELISM=(true | false)\n",
      "huggingface/tokenizers: The current process just got forked, after parallelism has already been used. Disabling parallelism to avoid deadlocks...\n",
      "To disable this warning, you can either:\n",
      "\t- Avoid using `tokenizers` before the fork if possible\n",
      "\t- Explicitly set the environment variable TOKENIZERS_PARALLELISM=(true | false)\n"
     ]
    },
    {
     "name": "stderr",
     "output_type": "stream",
     "text": [
      "\n",
      " 17%|███████▌                                     | 1/6 [00:12<01:01, 12.31s/it]\u001b[A"
     ]
    },
    {
     "name": "stdout",
     "output_type": "stream",
     "text": [
      "huggingface/tokenizers: The current process just got forked, after parallelism has already been used. Disabling parallelism to avoid deadlocks...\n",
      "To disable this warning, you can either:\n",
      "\t- Avoid using `tokenizers` before the fork if possible\n",
      "\t- Explicitly set the environment variable TOKENIZERS_PARALLELISM=(true | false)\n",
      "huggingface/tokenizers: The current process just got forked, after parallelism has already been used. Disabling parallelism to avoid deadlocks...\n",
      "To disable this warning, you can either:\n",
      "\t- Avoid using `tokenizers` before the fork if possible\n",
      "\t- Explicitly set the environment variable TOKENIZERS_PARALLELISM=(true | false)\n"
     ]
    },
    {
     "name": "stderr",
     "output_type": "stream",
     "text": [
      "\n",
      " 33%|███████████████                              | 2/6 [00:26<00:53, 13.36s/it]\u001b[A"
     ]
    },
    {
     "name": "stdout",
     "output_type": "stream",
     "text": [
      "huggingface/tokenizers: The current process just got forked, after parallelism has already been used. Disabling parallelism to avoid deadlocks...\n",
      "To disable this warning, you can either:\n",
      "\t- Avoid using `tokenizers` before the fork if possible\n",
      "\t- Explicitly set the environment variable TOKENIZERS_PARALLELISM=(true | false)\n",
      "huggingface/tokenizers: The current process just got forked, after parallelism has already been used. Disabling parallelism to avoid deadlocks...\n",
      "To disable this warning, you can either:\n",
      "\t- Avoid using `tokenizers` before the fork if possible\n",
      "\t- Explicitly set the environment variable TOKENIZERS_PARALLELISM=(true | false)\n"
     ]
    },
    {
     "name": "stderr",
     "output_type": "stream",
     "text": [
      "\n",
      " 50%|██████████████████████▌                      | 3/6 [00:39<00:40, 13.43s/it]\u001b[A"
     ]
    },
    {
     "name": "stdout",
     "output_type": "stream",
     "text": [
      "huggingface/tokenizers: The current process just got forked, after parallelism has already been used. Disabling parallelism to avoid deadlocks...\n",
      "To disable this warning, you can either:\n",
      "\t- Avoid using `tokenizers` before the fork if possible\n",
      "\t- Explicitly set the environment variable TOKENIZERS_PARALLELISM=(true | false)\n",
      "huggingface/tokenizers: The current process just got forked, after parallelism has already been used. Disabling parallelism to avoid deadlocks...\n",
      "To disable this warning, you can either:\n",
      "\t- Avoid using `tokenizers` before the fork if possible\n",
      "\t- Explicitly set the environment variable TOKENIZERS_PARALLELISM=(true | false)\n"
     ]
    },
    {
     "name": "stderr",
     "output_type": "stream",
     "text": [
      "\n",
      " 67%|██████████████████████████████               | 4/6 [00:54<00:28, 14.07s/it]\u001b[A"
     ]
    },
    {
     "name": "stdout",
     "output_type": "stream",
     "text": [
      "huggingface/tokenizers: The current process just got forked, after parallelism has already been used. Disabling parallelism to avoid deadlocks...\n",
      "To disable this warning, you can either:\n",
      "\t- Avoid using `tokenizers` before the fork if possible\n",
      "\t- Explicitly set the environment variable TOKENIZERS_PARALLELISM=(true | false)\n",
      "huggingface/tokenizers: The current process just got forked, after parallelism has already been used. Disabling parallelism to avoid deadlocks...\n",
      "To disable this warning, you can either:\n",
      "\t- Avoid using `tokenizers` before the fork if possible\n",
      "\t- Explicitly set the environment variable TOKENIZERS_PARALLELISM=(true | false)\n"
     ]
    },
    {
     "name": "stderr",
     "output_type": "stream",
     "text": [
      "\n",
      " 83%|█████████████████████████████████████▌       | 5/6 [01:07<00:13, 13.63s/it]\u001b[A"
     ]
    },
    {
     "name": "stdout",
     "output_type": "stream",
     "text": [
      "huggingface/tokenizers: The current process just got forked, after parallelism has already been used. Disabling parallelism to avoid deadlocks...\n",
      "To disable this warning, you can either:\n",
      "\t- Avoid using `tokenizers` before the fork if possible\n",
      "\t- Explicitly set the environment variable TOKENIZERS_PARALLELISM=(true | false)\n",
      "huggingface/tokenizers: The current process just got forked, after parallelism has already been used. Disabling parallelism to avoid deadlocks...\n",
      "To disable this warning, you can either:\n",
      "\t- Avoid using `tokenizers` before the fork if possible\n",
      "\t- Explicitly set the environment variable TOKENIZERS_PARALLELISM=(true | false)\n"
     ]
    },
    {
     "name": "stderr",
     "output_type": "stream",
     "text": [
      "\n",
      "100%|█████████████████████████████████████████████| 6/6 [01:21<00:00, 13.61s/it]\u001b[A\n",
      " 75%|█████████████████████████████████▊           | 3/4 [03:25<01:10, 70.01s/it]\n",
      "  0%|                                                     | 0/5 [00:00<?, ?it/s]\u001b[A"
     ]
    },
    {
     "name": "stdout",
     "output_type": "stream",
     "text": [
      "huggingface/tokenizers: The current process just got forked, after parallelism has already been used. Disabling parallelism to avoid deadlocks...\n",
      "To disable this warning, you can either:\n",
      "\t- Avoid using `tokenizers` before the fork if possible\n",
      "\t- Explicitly set the environment variable TOKENIZERS_PARALLELISM=(true | false)\n",
      "huggingface/tokenizers: The current process just got forked, after parallelism has already been used. Disabling parallelism to avoid deadlocks...\n",
      "To disable this warning, you can either:\n",
      "\t- Avoid using `tokenizers` before the fork if possible\n",
      "\t- Explicitly set the environment variable TOKENIZERS_PARALLELISM=(true | false)\n"
     ]
    },
    {
     "name": "stderr",
     "output_type": "stream",
     "text": [
      "\n",
      " 20%|█████████                                    | 1/5 [00:12<00:51, 12.94s/it]\u001b[AYour max_length is set to 100, but you input_length is only 74. You might consider decreasing max_length manually, e.g. summarizer('...', max_length=37)\n"
     ]
    },
    {
     "name": "stdout",
     "output_type": "stream",
     "text": [
      "huggingface/tokenizers: The current process just got forked, after parallelism has already been used. Disabling parallelism to avoid deadlocks...\n",
      "To disable this warning, you can either:\n",
      "\t- Avoid using `tokenizers` before the fork if possible\n",
      "\t- Explicitly set the environment variable TOKENIZERS_PARALLELISM=(true | false)\n",
      "huggingface/tokenizers: The current process just got forked, after parallelism has already been used. Disabling parallelism to avoid deadlocks...\n",
      "To disable this warning, you can either:\n",
      "\t- Avoid using `tokenizers` before the fork if possible\n",
      "\t- Explicitly set the environment variable TOKENIZERS_PARALLELISM=(true | false)\n"
     ]
    },
    {
     "name": "stderr",
     "output_type": "stream",
     "text": [
      "\n",
      " 40%|██████████████████                           | 2/5 [00:24<00:36, 12.29s/it]\u001b[A"
     ]
    },
    {
     "name": "stdout",
     "output_type": "stream",
     "text": [
      "huggingface/tokenizers: The current process just got forked, after parallelism has already been used. Disabling parallelism to avoid deadlocks...\n",
      "To disable this warning, you can either:\n",
      "\t- Avoid using `tokenizers` before the fork if possible\n",
      "\t- Explicitly set the environment variable TOKENIZERS_PARALLELISM=(true | false)\n",
      "huggingface/tokenizers: The current process just got forked, after parallelism has already been used. Disabling parallelism to avoid deadlocks...\n",
      "To disable this warning, you can either:\n",
      "\t- Avoid using `tokenizers` before the fork if possible\n",
      "\t- Explicitly set the environment variable TOKENIZERS_PARALLELISM=(true | false)\n"
     ]
    },
    {
     "name": "stderr",
     "output_type": "stream",
     "text": [
      "\n",
      " 60%|███████████████████████████                  | 3/5 [00:40<00:27, 13.65s/it]\u001b[A"
     ]
    },
    {
     "name": "stdout",
     "output_type": "stream",
     "text": [
      "huggingface/tokenizers: The current process just got forked, after parallelism has already been used. Disabling parallelism to avoid deadlocks...\n",
      "To disable this warning, you can either:\n",
      "\t- Avoid using `tokenizers` before the fork if possible\n",
      "\t- Explicitly set the environment variable TOKENIZERS_PARALLELISM=(true | false)\n",
      "huggingface/tokenizers: The current process just got forked, after parallelism has already been used. Disabling parallelism to avoid deadlocks...\n",
      "To disable this warning, you can either:\n",
      "\t- Avoid using `tokenizers` before the fork if possible\n",
      "\t- Explicitly set the environment variable TOKENIZERS_PARALLELISM=(true | false)\n"
     ]
    },
    {
     "name": "stderr",
     "output_type": "stream",
     "text": [
      "\n",
      " 80%|████████████████████████████████████         | 4/5 [00:53<00:13, 13.59s/it]\u001b[A"
     ]
    },
    {
     "name": "stdout",
     "output_type": "stream",
     "text": [
      "huggingface/tokenizers: The current process just got forked, after parallelism has already been used. Disabling parallelism to avoid deadlocks...\n",
      "To disable this warning, you can either:\n",
      "\t- Avoid using `tokenizers` before the fork if possible\n",
      "\t- Explicitly set the environment variable TOKENIZERS_PARALLELISM=(true | false)\n",
      "huggingface/tokenizers: The current process just got forked, after parallelism has already been used. Disabling parallelism to avoid deadlocks...\n",
      "To disable this warning, you can either:\n",
      "\t- Avoid using `tokenizers` before the fork if possible\n",
      "\t- Explicitly set the environment variable TOKENIZERS_PARALLELISM=(true | false)\n"
     ]
    },
    {
     "name": "stderr",
     "output_type": "stream",
     "text": [
      "\n",
      "100%|█████████████████████████████████████████████| 5/5 [01:09<00:00, 13.93s/it]\u001b[A\n",
      "100%|█████████████████████████████████████████████| 4/4 [04:34<00:00, 68.70s/it]\n"
     ]
    }
   ],
   "source": [
    "for subheading, websites in tqdm(topic_subheading_dataset.items()):\n",
    "    for url, paragraphs in tqdm(websites.items()):\n",
    "        data = ''.join(paragraphs)\n",
    "        if len(tokenizer([data])['input_ids'][0]) > 1023:\n",
    "                count = 0\n",
    "                data_nlp = nlp(data)\n",
    "                sentences = list(data_nlp.sents)\n",
    "                #print(sentences)\n",
    "                data = \"\"\n",
    "                for sentence in sentences:\n",
    "                    sentence = str(sentence)\n",
    "                    #print(type(sentence))\n",
    "                    count += (2 + len(word_tokenize(sentence)))\n",
    "                    if count < 924:\n",
    "                        data += sentence\n",
    "        summary_text = summarizer(data, max_length=100, min_length = 75)[0]['summary_text']\n",
    "        tool = language_tool_python.LanguageTool('en-US') \n",
    "        summary_text = tool.correct(summary_text)\n",
    "        tool.close()\n",
    "        summarized_dataset[subheading][url] = summary_text"
   ]
  },
  {
   "cell_type": "code",
   "execution_count": 1,
   "id": "4208693d",
   "metadata": {},
   "outputs": [
    {
     "ename": "NameError",
     "evalue": "name 'summarized_dataset' is not defined",
     "output_type": "error",
     "traceback": [
      "\u001b[0;31m---------------------------------------------------------------------------\u001b[0m",
      "\u001b[0;31mNameError\u001b[0m                                 Traceback (most recent call last)",
      "Input \u001b[0;32mIn [1]\u001b[0m, in \u001b[0;36m<module>\u001b[0;34m\u001b[0m\n\u001b[0;32m----> 1\u001b[0m \u001b[43msummarized_dataset\u001b[49m\n",
      "\u001b[0;31mNameError\u001b[0m: name 'summarized_dataset' is not defined"
     ]
    }
   ],
   "source": [
    "summarized_dataset"
   ]
  },
  {
   "cell_type": "code",
   "execution_count": null,
   "id": "23915119",
   "metadata": {},
   "outputs": [],
   "source": []
  },
  {
   "cell_type": "code",
   "execution_count": null,
   "id": "5c068bca",
   "metadata": {},
   "outputs": [],
   "source": [
    "{'overview': defaultdict(str,\n",
    "                         {'https://online.princeton.edu/computer-architecture': ' Building on a computer organization base, this course explores techniques that go into designing a modern microprocessor. Fundamental understanding of computer architecture is key not only for students interested in hardware and processor design. This course will explore how the computer architect can utilize the increasing number of transistors available to improve the performance of a processor. Focus will be given to architectures that can exploit different forms of parallelism, whether they be implicit or explicit.',\n",
    "                          'https://www.educba.com/types-of-computer-architecture/': ' Each memory has multiple locations and each location has a unique address. We can address the contents of memory by its location irrespective of what type of data and instructions are present in the memory. Microarchitecture performs in a certain way. It reads the instruction and decodes it, will find parallel data to process the instruction. It is used in microprocessors, microcontrollers.',\n",
    "                          'https://geteducationskills.com/computer-architecture/': ' This chapter provides a first examination of the principal forms of supercomputer architecture and the underlying concepts that govern their performance. It is here, at the structural and logical levels, that parallelism of operation in its many forms and size is first presented. This chapter introduces the basic foundations of computer architecture in general and for high-performance computer systems in particular. The chapter provides an overview of all computer cores, from those few in the smallest mobile phones to potentially millions making up the world’',\n",
    "                          'https://en.wikipedia.org/wiki/Computer_architecture': ' Computer architecture is concerned with balancing the performance, efficiency, cost, and reliability of a computer system. Longer and more complex instructions take longer for the processor to decode and can be more costly to implement effectively. Memory organization defines how instructions interact with the memory, and how memory interacts with itself. Computers that control machinery usually need low interrupt latencies. Multimedia projects may need very rapid data access, while virtual machines may need fast interrupts.',\n",
    "                          'https://learn.saylor.org/course/CS301': ' In this unit, we will discuss various components of MIPS processor architecture. This unit will ask you to apply the information you learned in units 2, 3, and 4 to create a simple processor architecture. We will also discuss a technique known as pipe lining, which is used to improve processor performance. The unit will conclude with a look at some programming techniques used in the context of parallel machines.'}),\n",
    "'source': defaultdict(str,\n",
    "                         {'https://online.princeton.edu/computer-architecture': ' \"Thank you for making this excellent course available! It was very insightful, the explanations were great -- it really helped to understand a lot of the behind-the-scenes magic that I\\'ve been taking for granted in 20 years as a software engineer. Thanks a lot!\" says the author of the book \"thank you a lot\" and the course was \"very insightful\"',\n",
    "                          'https://www.educba.com/types-of-computer-architecture/': ' The name defines itself, the design will satisfy user requirements such as architecture, module, interfaces and data for a system, and it is connected to product development. Modular systems are made by standardizing hardware and software. It is the process of taking marketing information and creating product design to be manufacture. Modular design is a process of standardizing software and hardware to meet user requirements.',\n",
    "                          'https://geteducationskills.com/computer-architecture/': \" Designing a computer is about designing a machine that holds and manipulates data. This book is about how to make specialized brains. It's all about processing information, processing information. Designing computers is about making computers that hold and manipulate data, rather than computers that run software and run software. The book is published by Simon Tisdale, a British-based publisher, and is available on Amazon.com.\",\n",
    "                          'https://learn.saylor.org/course/CS301': ' We will begin this unit with an overview of digital components, identifying the building blocks of digital logic. We will build on that foundation by writing truth tables and learning about more complicated sequential digital systems with memory. This unit serves as background information for the processor design techniques we learn in later units. To receive a free Course Completion Certificate, you will need a grade of 70% or higher on this final exam.'}),\n",
    "'type': defaultdict(str,\n",
    "                         {'https://online.princeton.edu/computer-architecture': ' \"I am a VLSI Design professional working in the field of CPU/SoC architecture and Design. This course helped me to reinforce the basics and also to find more interesting topics to explore and research. The course content was very good covering the essential concepts,\" says one of the course\\'s students. The course was very successful, says the author of the book.',\n",
    "                          'https://www.educba.com/types-of-computer-architecture/': \" Data and instructions are stored in a single read/write memory within the computer system. Harvard's architecture is used when data and code is present in different memory blocks. A separate memory block is needed for data and instruction. Data can be accessed by one memory location and instruction can be. Accessed by a different. Location in different types of computer architecture in different computer architectures.\",\n",
    "                          'https://www.codecademy.com/learn/computer-architecture': \" In this course, you’ll learn about what the main physical components of a computer are, why 0 and 1 are such important numbers within computing, how instruction set architecture (ISA) establishes communication between the hardware and software components. The course will teach you computer architecture with a combination of lessons, articles, quizzes, problem sets, and projects. At the end of the course you'll be prompted to create your own CPU simulator in Python.\",\n",
    "                          'https://geteducationskills.com/computer-architecture/': ' Computer engineering is a science or a set of rules stating how brain software and hardware are joined together and interact to make a computer work. It not only determines how the brain works but also of which technologies the computer is capable. The best programs for aspiring computer architects are computer-based fields because they offer students the most hands-on experience in database design or network security.',\n",
    "                          'https://en.wikipedia.org/wiki/Computer_architecture': ' Computers do not understand high-level programming languages such as Java, C++, or most programming languages used. A processor only understands instructions encoded in some numerical fashion, usually as binary numbers. Software tools, such as compilers, translate those high level languages into instructions that the processor can understand. The ISA defines items in the computer that are available to a program.',\n",
    "                          'https://learn.saylor.org/course/CS301': ' The purpose of this course is to cultivate an understanding of modern computing technology through an in-depth study of the interface between hardware and software. The course will conclude with a look at the recent switch from sequential processing to parallel processing by looking at the parallel computing models and their programming implications. You will learn about modern computer architecture and the Von Neumann architecture, pipe lining, memory management, storage, and other input/output topics.'}),\n",
    "'history': defaultdict(str,\n",
    "                         {'https://www.educba.com/types-of-computer-architecture/': ' Computer architecture consists of rules and methods or procedures which describe the implementation, functionality of the computer systems. Architecture is built as per the user’s needs by taking care of the economic and financial constraints. The computer system has the processor, memory, I/O devices and communication channels that connect to it. It has digital signal processors that will execute small or highly audio or video algorithms, and it is reproducible.',\n",
    "                          'https://www.codecademy.com/learn/computer-architecture': ' Create a simple calculator application in Python that uses a 32-bit Instruction Set Architecture that the student designs to read and execute binary instructions. It simulates the basic CPU function in the computer hierarchy. Students can go in knowing zero, nothing, and just get a grasp on everything as you go and start building right away. I know from first-hand experience that you can go into knowing zero.',\n",
    "                          'https://geteducationskills.com/computer-architecture/': ' Computer Architecture: In computer manufacturing, computer engineering is a set of rules and methods that describe the functionality, organization, and utilization of computer systems. Computer architects are expected to see an employment growth of 6% between 2016 and 2026 as reported by the U.S. Bureau of Labor Statistics. While cloud computing has decreased the need for computer architects somewhat, they will continue to be in demand as businesses continue to increase their technology needs.',\n",
    "                          'https://en.wikipedia.org/wiki/Computer_architecture': ' In computer engineering, computer architecture is a set of rules and methods that describe the functionality, organization, and implementation of computer systems. The first documented computer architecture was in correspondence between Charles Babbage and Ada Lovelace, describing the analytical engine. Konrad Zuse described in two patent applications for his future projects that machine instructions could be stored in the same storage used for data, i.e., the stored-program concept.',\n",
    "                          'https://learn.saylor.org/course/CS301': ' In this unit, we will discuss some advances in technology that led to the development of modern computers. We will discuss the importance of computing power and how it motivated the switch from a single-core to a multicore processor. In previous units, you learned about how computer memory stores information, how numbers are represented in a computer memory word (typically, 32 or 64 bits) We will also discuss the designs of adders, multipliers, and dividers.'})})"
   ]
  }
 ],
 "metadata": {
  "kernelspec": {
   "display_name": "Python 3 (ipykernel)",
   "language": "python",
   "name": "python3"
  },
  "language_info": {
   "codemirror_mode": {
    "name": "ipython",
    "version": 3
   },
   "file_extension": ".py",
   "mimetype": "text/x-python",
   "name": "python",
   "nbconvert_exporter": "python",
   "pygments_lexer": "ipython3",
   "version": "3.9.12"
  }
 },
 "nbformat": 4,
 "nbformat_minor": 5
}
