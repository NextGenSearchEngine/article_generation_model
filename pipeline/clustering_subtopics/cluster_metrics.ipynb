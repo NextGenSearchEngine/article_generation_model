{
 "cells": [
  {
   "cell_type": "code",
   "execution_count": 26,
   "id": "10478a61",
   "metadata": {},
   "outputs": [],
   "source": [
    "from tqdm import tqdm\n",
    "import requests, re, html_text\n",
    "import nltk\n",
    "from nltk.stem.wordnet import WordNetLemmatizer\n",
    "from cleantext import clean\n",
    "import pickle\n",
    "from collections import defaultdict\n",
    "from sentence_transformers import SentenceTransformer\n",
    "import time\n",
    "import numpy as np"
   ]
  },
  {
   "cell_type": "markdown",
   "id": "d8bfa329",
   "metadata": {},
   "source": [
    "# Embeddings"
   ]
  },
  {
   "cell_type": "code",
   "execution_count": 2,
   "id": "b1b2375c",
   "metadata": {},
   "outputs": [
    {
     "name": "stderr",
     "output_type": "stream",
     "text": [
      "100%|███████████████████████████████████████████| 14/14 [00:18<00:00,  1.32s/it]\n"
     ]
    }
   ],
   "source": [
    "URL = \"https://en.wikipedia.org/w/api.php\"\n",
    "TITLE = \"Wikipedia:Lists of popular pages by WikiProject\"\n",
    "PARAMS = {\n",
    "    'action': \"parse\",\n",
    "    'page': TITLE,\n",
    "    'prop': 'wikitext',\n",
    "    'section': 1,\n",
    "    'format': \"json\"\n",
    "}\n",
    "S = requests.Session()\n",
    "res = S.get(url=URL, params=PARAMS)\n",
    "data = res.json()\n",
    "wikitext = data['parse']['wikitext']['*']\n",
    "lines = wikitext.split('|-')\n",
    "popular_pages = []\n",
    "for line in lines:\n",
    "        entry = line.split(\"|\")        \n",
    "        popular_list = re.sub(\"\\[|\\]|\\n\", '', entry[1])\n",
    "        subject = re.sub(\"\\[|\\]|\\n\", '', entry[-1])\n",
    "        if 'Computing' in subject:\n",
    "            popular_pages.append(popular_list)\n",
    "entries = []\n",
    "for pages in tqdm(popular_pages):\n",
    "    PARAMS = {\n",
    "        'action': \"parse\",\n",
    "        'page': pages,\n",
    "        'prop': 'wikitext',\n",
    "        'section': 1,\n",
    "        'format': \"json\"\n",
    "    }\n",
    "    \n",
    "    res = S.get(url=URL, params=PARAMS)\n",
    "    data = res.json()\n",
    "    \n",
    "    wikitext = data['parse']['wikitext']['*']\n",
    "    lines = wikitext.split('|-')\n",
    "    for line in lines:\n",
    "            entry = line.split(\"|\")\n",
    "            if len(entry) < 3:\n",
    "                continue\n",
    "            page_title = re.sub(\"\\[|\\]|\\n\", '', entry[2])\n",
    "            importance = re.sub(\"\\[|\\]|\\n\", '', entry[-1])\n",
    "            if importance != 'Low' and importance != 'Unknown':\n",
    "                entries.append(page_title[1:].replace('%E2%80%93', '-').replace('&#039;', \"'\"))"
   ]
  },
  {
   "cell_type": "code",
   "execution_count": 3,
   "id": "80890d37",
   "metadata": {},
   "outputs": [],
   "source": [
    "with open('word_dict.pickle', 'rb') as handle:\n",
    "    word_dict = pickle.load(handle)\n",
    "common_subtopics = set(word_dict.keys())"
   ]
  },
  {
   "cell_type": "code",
   "execution_count": 4,
   "id": "cf79f85f",
   "metadata": {},
   "outputs": [
    {
     "data": {
      "text/plain": [
       "4470"
      ]
     },
     "execution_count": 4,
     "metadata": {},
     "output_type": "execute_result"
    }
   ],
   "source": [
    "len(entries)"
   ]
  },
  {
   "cell_type": "code",
   "execution_count": 7,
   "id": "17388247",
   "metadata": {},
   "outputs": [
    {
     "name": "stderr",
     "output_type": "stream",
     "text": [
      "4470it [1:26:36,  1.16s/it]\n"
     ]
    }
   ],
   "source": [
    "dataset = defaultdict(list)\n",
    "for i, entry in tqdm(enumerate(entries)):\n",
    "    TITLE = entry\n",
    "    PARAMS = {\n",
    "    'action': \"parse\",\n",
    "    'page': TITLE,\n",
    "    'prop': 'sections',\n",
    "    'format': \"json\"\n",
    "    }\n",
    "    res = S.get(url=URL, params=PARAMS)\n",
    "    data = res.json()\n",
    "    try:\n",
    "        data = data['parse']['sections']\n",
    "    except:\n",
    "        continue\n",
    "    content_list = []\n",
    "    for idx, sections in enumerate(data):\n",
    "        if int(sections['toclevel']) == 1:\n",
    "            if sections['anchor'] in common_subtopics:\n",
    "                content_list.append((idx+1, sections['anchor']))\n",
    "                \n",
    "    if content_list == []:\n",
    "        continue\n",
    "    for idx, topic in content_list:\n",
    "        PARAMS = {\n",
    "            'action': \"parse\",\n",
    "            'page': TITLE,\n",
    "            'section': idx,\n",
    "            'prop': 'text',\n",
    "            'format': \"json\"\n",
    "        }\n",
    "        res = S.get(url=URL, params=PARAMS)\n",
    "        data = res.json()\n",
    "        data_split = re.split(\"<p>\", str(list(data['parse']['text'].values())[0]))\n",
    "        data = \" \".join(data_split[1:])\n",
    "        text = html_text.extract_text(data, guess_layout=False)\n",
    "        sentence_count = text.split(\".\")\n",
    "        if len(sentence_count) > 15:\n",
    "            text = '.'.join(sentence_count[:15])\n",
    "            \n",
    "        text = re.sub('\\[\\d+\\]|\\[ [a-z] \\]', \"\", text)\n",
    "        text = re.sub('\\s+',' ',text)\n",
    "        words = clean(re.sub(r'_', ' ', text)).split(\" \")\n",
    "    \n",
    "        stop_words = nltk.corpus.stopwords.words(\"english\")\n",
    "        text_filtered = [word for word in words if not word in stop_words]\n",
    "        stemmer = WordNetLemmatizer()\n",
    "        text_stemmed = ' '.join([stemmer.lemmatize(y) for y in text_filtered])\n",
    "        if len(text) != 0:\n",
    "            dataset[topic].append(text_stemmed)"
   ]
  },
  {
   "cell_type": "code",
   "execution_count": 8,
   "id": "3d47ffe1",
   "metadata": {},
   "outputs": [
    {
     "data": {
      "text/plain": [
       "146"
      ]
     },
     "execution_count": 8,
     "metadata": {},
     "output_type": "execute_result"
    }
   ],
   "source": [
    "len(dataset)"
   ]
  },
  {
   "cell_type": "code",
   "execution_count": 43,
   "id": "533443d0",
   "metadata": {},
   "outputs": [
    {
     "name": "stdout",
     "output_type": "stream",
     "text": [
      "Model initializaiton:  4.755447149276733\n"
     ]
    }
   ],
   "source": [
    "start = time.time()\n",
    "model = SentenceTransformer('sentence-transformers/all-roberta-large-v1')\n",
    "print(\"Model initializaiton: \", time.time() - start)"
   ]
  },
  {
   "cell_type": "code",
   "execution_count": 44,
   "id": "e2708cd4",
   "metadata": {},
   "outputs": [],
   "source": [
    "dataset_emb = defaultdict()"
   ]
  },
  {
   "cell_type": "code",
   "execution_count": 45,
   "id": "dee04f18",
   "metadata": {},
   "outputs": [
    {
     "name": "stderr",
     "output_type": "stream",
     "text": [
      " 99%|████████████████████████████████████████▍| 146/148 [28:01<00:05,  2.91s/it]/Users/arpan/Documents/FORWARD_LAB/fwd_venv/lib/python3.9/site-packages/numpy/lib/function_base.py:495: RuntimeWarning: Mean of empty slice.\n",
      "  avg = a.mean(axis)\n",
      "/Users/arpan/Documents/FORWARD_LAB/fwd_venv/lib/python3.9/site-packages/numpy/core/_methods.py:189: RuntimeWarning: invalid value encountered in double_scalars\n",
      "  ret = ret.dtype.type(ret / rcount)\n",
      "100%|█████████████████████████████████████████| 148/148 [28:01<00:00, 11.36s/it]\n"
     ]
    }
   ],
   "source": [
    "for topic, paras in tqdm(dataset.items()):\n",
    "    dataset_emb[topic] = np.average(model.encode(paras), 0)"
   ]
  },
  {
   "cell_type": "code",
   "execution_count": 47,
   "id": "f757e4d8",
   "metadata": {},
   "outputs": [],
   "source": [
    "with open('clusters.pickle', 'rb') as handle:\n",
    "    clusters = pickle.load(handle)\n",
    "clustered_subtopics = list(clusters.values())"
   ]
  },
  {
   "cell_type": "code",
   "execution_count": 48,
   "id": "deeccd8d",
   "metadata": {},
   "outputs": [],
   "source": [
    "labels = []\n",
    "for k, v in dataset_emb.items():\n",
    "    for i in range(len(clustered_subtopics)):\n",
    "        if k in set(clustered_subtopics[i]):\n",
    "            labels.append(i)"
   ]
  },
  {
   "cell_type": "code",
   "execution_count": 49,
   "id": "bd3750ea",
   "metadata": {},
   "outputs": [
    {
     "data": {
      "text/plain": [
       "146"
      ]
     },
     "execution_count": 49,
     "metadata": {},
     "output_type": "execute_result"
    }
   ],
   "source": [
    "len(labels)"
   ]
  },
  {
   "cell_type": "code",
   "execution_count": 50,
   "id": "74a393ca",
   "metadata": {},
   "outputs": [],
   "source": [
    "embs = list(dataset_emb.values())[:-2]"
   ]
  },
  {
   "cell_type": "code",
   "execution_count": 51,
   "id": "3b21d80f",
   "metadata": {},
   "outputs": [],
   "source": [
    "from sklearn.decomposition import PCA\n",
    "import matplotlib.pyplot as plt\n",
    "\n",
    "pca = PCA(n_components=2)\n",
    "x = pca.fit_transform(embs)[:,0]\n",
    "y = pca.fit_transform(embs)[:,1]"
   ]
  },
  {
   "cell_type": "code",
   "execution_count": 52,
   "id": "665bb3c1",
   "metadata": {},
   "outputs": [],
   "source": [
    "import seaborn as sns"
   ]
  },
  {
   "cell_type": "code",
   "execution_count": 53,
   "id": "696c039a",
   "metadata": {},
   "outputs": [
    {
     "data": {
      "text/plain": [
       "<AxesSubplot:>"
      ]
     },
     "execution_count": 53,
     "metadata": {},
     "output_type": "execute_result"
    },
    {
     "data": {
      "image/png": "[encoded data removed]",
      "text/plain": [
       "<Figure size 720x720 with 1 Axes>"
      ]
     },
     "metadata": {},
     "output_type": "display_data"
    }
   ],
   "source": [
    "sns.set(style=\"darkgrid\", rc = {'figure.figsize':(10,10)})\n",
    "sns.scatterplot(x=x, y=y, hue=labels, palette=\"deep\")"
   ]
  },
  {
   "cell_type": "code",
   "execution_count": 54,
   "id": "3ac8c584",
   "metadata": {},
   "outputs": [],
   "source": [
    "# cluster usiing this ^"
   ]
  },
  {
   "cell_type": "code",
   "execution_count": 55,
   "id": "4cecb4e4",
   "metadata": {},
   "outputs": [],
   "source": [
    "# remove all the nouns from the text"
   ]
  },
  {
   "cell_type": "code",
   "execution_count": null,
   "id": "ca44dc7b",
   "metadata": {},
   "outputs": [],
   "source": []
  }
 ],
 "metadata": {
  "language_info": {
   "codemirror_mode": {
    "name": "ipython",
    "version": 3
   },
   "file_extension": ".py",
   "mimetype": "text/x-python",
   "name": "python",
   "nbconvert_exporter": "python",
   "pygments_lexer": "ipython3",
   "version": "3.9.12"
  }
 },
 "nbformat": 4,
 "nbformat_minor": 5
}
